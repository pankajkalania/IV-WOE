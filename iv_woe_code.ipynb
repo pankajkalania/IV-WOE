{
 "cells": [
  {
   "cell_type": "code",
   "execution_count": 1,
   "metadata": {},
   "outputs": [],
   "source": [
    "import pandas as pd, numpy as np, os, re, math, time"
   ]
  },
  {
   "cell_type": "code",
   "execution_count": 2,
   "metadata": {},
   "outputs": [],
   "source": [
    "def is_monotonic(temp_series):\n",
    "    return all(temp_series[i] <= temp_series[i + 1] for i in range(len(temp_series) - 1)) or all(temp_series[i] >= temp_series[i + 1] for i in range(len(temp_series) - 1))"
   ]
  },
  {
   "cell_type": "code",
   "execution_count": 3,
   "metadata": {},
   "outputs": [],
   "source": [
    "def prepare_bins(bin_data, c_i, target_col, max_bins):\n",
    "    force_bin = True\n",
    "    binned = False\n",
    "    remarks = np.nan\n",
    "    # ----------------- Monotonic binning -----------------\n",
    "    for n_bins in range(max_bins, 2, -1):\n",
    "        try:\n",
    "            bin_data[c_i + \"_bins\"] = pd.qcut(bin_data[c_i], n_bins).astype(object)\n",
    "            if is_monotonic(bin_data.groupby(c_i + \"_bins\")[target_col].mean().reset_index(drop=True)):\n",
    "                force_bin = False\n",
    "                binned = True\n",
    "                remarks = \"binned monotonically\"\n",
    "                break\n",
    "        except:\n",
    "            pass\n",
    "    # ----------------- Force binning -----------------\n",
    "    if force_bin:\n",
    "        bin_data[c_i + \"_bins\"] = pd.qcut(bin_data[c_i], 2, duplicates='drop').astype(object)\n",
    "        if bin_data[c_i + \"_bins\"].nunique() == 2:\n",
    "            binned = True\n",
    "            remarks = \"binned forcefully\"\n",
    "\n",
    "    if binned:\n",
    "        return c_i + \"_bins\", remarks, bin_data[[c_i+\"_bins\", target_col]].copy()\n",
    "    else:\n",
    "        remarks = \"couldn't bin\"\n",
    "        return c_i, remarks, bin_data[[c_i, target_col]].copy()"
   ]
  },
  {
   "cell_type": "code",
   "execution_count": 13,
   "metadata": {},
   "outputs": [],
   "source": [
    "def iv_woe_4iter(binned_data, target_col, class_col):\n",
    "    binned_data = binned_data.fillna(\"Missing\")\n",
    "    temp_groupby = binned_data.groupby(class_col)[target_col].agg([\"count\", lambda x: (x == 0).sum(), lambda x: (x == 1).sum()])\n",
    "    temp_groupby = temp_groupby.reset_index()\n",
    "    temp_groupby.columns = [\"sample_class\", \"sample_count\", \"good_count\", \"bad_count\"]\n",
    "    temp_groupby[\"feature\"] = class_col\n",
    "    if \"_bins\" in class_col:\n",
    "        temp_groupby[\"sample_class_label\"]=temp_groupby[\"sample_class\"].replace({\"Missing\": np.nan}).astype('category').cat.codes.replace({-1: np.nan})\n",
    "    else:\n",
    "        temp_groupby[\"sample_class_label\"]=np.nan\n",
    "    temp_groupby = temp_groupby[[\"feature\", \"sample_class\", \"sample_class_label\", \"sample_count\", \"good_count\", \"bad_count\"]]\n",
    "\n",
    "    # get distribution of good and bad\n",
    "    temp_groupby['distbn_good'] = temp_groupby.apply(lambda x: x[\"good_count\"]/temp_groupby['good_count'].sum() if x[\"good_count\"] > 0 else (x[\"good_count\"] + 0.5)/temp_groupby['good_count'].sum(), axis=1)\n",
    "    temp_groupby['distbn_bad'] = temp_groupby.apply(lambda x: x[\"bad_count\"]/temp_groupby['bad_count'].sum() if x[\"bad_count\"] > 0 else (x[\"bad_count\"] + 0.5)/temp_groupby['bad_count'].sum(), axis=1)\n",
    "\n",
    "    temp_groupby['woe'] = np.log(temp_groupby['distbn_good'] / temp_groupby['distbn_bad'])\n",
    "    temp_groupby['iv'] = (temp_groupby['distbn_good'] - temp_groupby['distbn_bad']) * temp_groupby['woe']\n",
    "    \n",
    "    return temp_groupby"
   ]
  },
  {
   "cell_type": "code",
   "execution_count": 5,
   "metadata": {},
   "outputs": [],
   "source": [
    "def var_iter(data, target_col, max_bins):\n",
    "    woe_iv = pd.DataFrame()\n",
    "    remarks_list = []\n",
    "    for c_i in data.columns:\n",
    "        if c_i not in [target_col]:\n",
    "            if np.issubdtype(data[c_i], np.number) and data[c_i].nunique() > 2:\n",
    "                class_col, remarks, binned_data = prepare_bins(data[[c_i, target_col]].copy(), c_i, target_col, max_bins)\n",
    "                agg_data = iv_woe_4iter(binned_data.copy(), target_col, class_col)\n",
    "                remarks_list.append({\"feature\": c_i, \"remarks\": remarks})\n",
    "            else:\n",
    "                agg_data = iv_woe_4iter(data[[c_i, target_col]].copy(), target_col, c_i)\n",
    "                remarks_list.append({\"feature\": c_i, \"remarks\": np.nan})\n",
    "            woe_iv = woe_iv.append(agg_data)\n",
    "    return woe_iv, pd.DataFrame(remarks_list)"
   ]
  },
  {
   "cell_type": "code",
   "execution_count": 10,
   "metadata": {},
   "outputs": [],
   "source": [
    "def get_iv_woe(data, target_col, max_bins, fill_by_woe=False, woe_var_list=[]):\n",
    "    func_start_time = time.time()\n",
    "    woe_iv, binning_remarks = var_iter(data, target_col, max_bins)\n",
    "    woe_iv[\"sample_class_min\"] = woe_iv[\"sample_class\"].apply(lambda x:x.left if type(x) == pd._libs.interval.Interval else x)\n",
    "    woe_iv[\"sample_class_max\"] = woe_iv[\"sample_class\"].apply(lambda x:x.right if type(x) == pd._libs.interval.Interval else x)\n",
    "    \n",
    "    woe_iv[\"feature\"] = woe_iv[\"feature\"].replace(\"_bins\", \"\", regex=True)\n",
    "    woe_iv = woe_iv[['feature', 'sample_class', 'sample_class_label', 'sample_class_min', 'sample_class_max',\n",
    "                     'sample_count', 'good_count', 'bad_count', 'distbn_good', 'distbn_bad', 'woe', 'iv']]\n",
    "    \n",
    "    iv = woe_iv.groupby(\"feature\")[[\"iv\"]].agg([\"sum\", \"count\"]).reset_index()\n",
    "    iv.columns = [\"feature\", \"iv\", \"number_of_classes\"]\n",
    "    iv[\"feature_null_percent\"] = iv[\"feature\"].apply(lambda x:data.isnull().mean()[x])\n",
    "    iv = iv.merge(binning_remarks, on=\"feature\", how=\"left\")\n",
    "    \n",
    "    print(\"Total time elapsed: {} minutes\".format(round((time.time() - func_start_time) / 60, 3)))\n",
    "    return iv, woe_iv.replace({\"Missing\": np.nan})"
   ]
  },
  {
   "cell_type": "markdown",
   "metadata": {},
   "source": [
    "## load data"
   ]
  },
  {
   "cell_type": "code",
   "execution_count": 7,
   "metadata": {},
   "outputs": [
    {
     "name": "stdout",
     "output_type": "stream",
     "text": [
      "(1000, 8)\n"
     ]
    },
    {
     "data": {
      "text/html": [
       "<div>\n",
       "<style scoped>\n",
       "    .dataframe tbody tr th:only-of-type {\n",
       "        vertical-align: middle;\n",
       "    }\n",
       "\n",
       "    .dataframe tbody tr th {\n",
       "        vertical-align: top;\n",
       "    }\n",
       "\n",
       "    .dataframe thead th {\n",
       "        text-align: right;\n",
       "    }\n",
       "</style>\n",
       "<table border=\"1\" class=\"dataframe\">\n",
       "  <thead>\n",
       "    <tr style=\"text-align: right;\">\n",
       "      <th></th>\n",
       "      <th>number_of_missed_payments</th>\n",
       "      <th>number_of_bank_visits</th>\n",
       "      <th>score</th>\n",
       "      <th>income</th>\n",
       "      <th>use_online_streaming</th>\n",
       "      <th>number_of_bank_accounts</th>\n",
       "      <th>state</th>\n",
       "      <th>bad_customer</th>\n",
       "    </tr>\n",
       "  </thead>\n",
       "  <tbody>\n",
       "    <tr>\n",
       "      <th>0</th>\n",
       "      <td>4.0</td>\n",
       "      <td>NaN</td>\n",
       "      <td>NaN</td>\n",
       "      <td>16601.0</td>\n",
       "      <td>0.0</td>\n",
       "      <td>5.0</td>\n",
       "      <td>West Bengal</td>\n",
       "      <td>1.0</td>\n",
       "    </tr>\n",
       "  </tbody>\n",
       "</table>\n",
       "</div>"
      ],
      "text/plain": [
       "   number_of_missed_payments  number_of_bank_visits  score   income  \\\n",
       "0                        4.0                    NaN    NaN  16601.0   \n",
       "\n",
       "   use_online_streaming  number_of_bank_accounts        state  bad_customer  \n",
       "0                   0.0                      5.0  West Bengal           1.0  "
      ]
     },
     "execution_count": 7,
     "metadata": {},
     "output_type": "execute_result"
    }
   ],
   "source": [
    "data_path=\"D:\\\\ml_from_scratch\\\\blog_series\\\\blog_1\\\\data\"\n",
    "data=pd.read_csv(os.path.join(data_path, \"encoded_data_4blog_1_2020_11_10.csv\"))\n",
    "print(data.shape)\n",
    "data.head(1)"
   ]
  },
  {
   "cell_type": "code",
   "execution_count": 14,
   "metadata": {},
   "outputs": [
    {
     "name": "stdout",
     "output_type": "stream",
     "text": [
      "Total time elapsed: 0.015 minutes\n",
      "(7, 5) (47, 12)\n"
     ]
    }
   ],
   "source": [
    "iv, woe_iv = get_iv_woe(data.copy(), \"bad_customer\", 20)\n",
    "print(iv.shape, woe_iv.shape)"
   ]
  },
  {
   "cell_type": "code",
   "execution_count": 17,
   "metadata": {},
   "outputs": [
    {
     "data": {
      "text/html": [
       "<div>\n",
       "<style scoped>\n",
       "    .dataframe tbody tr th:only-of-type {\n",
       "        vertical-align: middle;\n",
       "    }\n",
       "\n",
       "    .dataframe tbody tr th {\n",
       "        vertical-align: top;\n",
       "    }\n",
       "\n",
       "    .dataframe thead th {\n",
       "        text-align: right;\n",
       "    }\n",
       "</style>\n",
       "<table border=\"1\" class=\"dataframe\">\n",
       "  <thead>\n",
       "    <tr style=\"text-align: right;\">\n",
       "      <th></th>\n",
       "      <th>feature</th>\n",
       "      <th>iv</th>\n",
       "      <th>number_of_classes</th>\n",
       "      <th>feature_null_percent</th>\n",
       "      <th>remarks</th>\n",
       "    </tr>\n",
       "  </thead>\n",
       "  <tbody>\n",
       "    <tr>\n",
       "      <th>3</th>\n",
       "      <td>number_of_missed_payments</td>\n",
       "      <td>0.225253</td>\n",
       "      <td>3</td>\n",
       "      <td>0.028</td>\n",
       "      <td>binned forcefully</td>\n",
       "    </tr>\n",
       "    <tr>\n",
       "      <th>2</th>\n",
       "      <td>number_of_bank_visits</td>\n",
       "      <td>0.158359</td>\n",
       "      <td>5</td>\n",
       "      <td>0.322</td>\n",
       "      <td>binned monotonically</td>\n",
       "    </tr>\n",
       "    <tr>\n",
       "      <th>5</th>\n",
       "      <td>state</td>\n",
       "      <td>0.100092</td>\n",
       "      <td>26</td>\n",
       "      <td>0.001</td>\n",
       "      <td>NaN</td>\n",
       "    </tr>\n",
       "    <tr>\n",
       "      <th>0</th>\n",
       "      <td>income</td>\n",
       "      <td>0.029497</td>\n",
       "      <td>4</td>\n",
       "      <td>0.126</td>\n",
       "      <td>binned monotonically</td>\n",
       "    </tr>\n",
       "    <tr>\n",
       "      <th>4</th>\n",
       "      <td>score</td>\n",
       "      <td>0.024453</td>\n",
       "      <td>4</td>\n",
       "      <td>0.226</td>\n",
       "      <td>binned monotonically</td>\n",
       "    </tr>\n",
       "    <tr>\n",
       "      <th>1</th>\n",
       "      <td>number_of_bank_accounts</td>\n",
       "      <td>0.013772</td>\n",
       "      <td>3</td>\n",
       "      <td>0.028</td>\n",
       "      <td>binned forcefully</td>\n",
       "    </tr>\n",
       "    <tr>\n",
       "      <th>6</th>\n",
       "      <td>use_online_streaming</td>\n",
       "      <td>0.003143</td>\n",
       "      <td>2</td>\n",
       "      <td>0.000</td>\n",
       "      <td>NaN</td>\n",
       "    </tr>\n",
       "  </tbody>\n",
       "</table>\n",
       "</div>"
      ],
      "text/plain": [
       "                     feature        iv  number_of_classes  \\\n",
       "3  number_of_missed_payments  0.225253                  3   \n",
       "2      number_of_bank_visits  0.158359                  5   \n",
       "5                      state  0.100092                 26   \n",
       "0                     income  0.029497                  4   \n",
       "4                      score  0.024453                  4   \n",
       "1    number_of_bank_accounts  0.013772                  3   \n",
       "6       use_online_streaming  0.003143                  2   \n",
       "\n",
       "   feature_null_percent               remarks  \n",
       "3                 0.028     binned forcefully  \n",
       "2                 0.322  binned monotonically  \n",
       "5                 0.001                   NaN  \n",
       "0                 0.126  binned monotonically  \n",
       "4                 0.226  binned monotonically  \n",
       "1                 0.028     binned forcefully  \n",
       "6                 0.000                   NaN  "
      ]
     },
     "execution_count": 17,
     "metadata": {},
     "output_type": "execute_result"
    }
   ],
   "source": [
    "iv.sort_values(\"iv\", ascending=False)"
   ]
  },
  {
   "cell_type": "code",
   "execution_count": null,
   "metadata": {},
   "outputs": [],
   "source": []
  }
 ],
 "metadata": {
  "kernelspec": {
   "display_name": "Python 3",
   "language": "python",
   "name": "python3"
  },
  "language_info": {
   "codemirror_mode": {
    "name": "ipython",
    "version": 3
   },
   "file_extension": ".py",
   "mimetype": "text/x-python",
   "name": "python",
   "nbconvert_exporter": "python",
   "pygments_lexer": "ipython3",
   "version": "3.7.6"
  }
 },
 "nbformat": 4,
 "nbformat_minor": 4
}
